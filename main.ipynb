{
 "cells": [
  {
   "cell_type": "code",
   "execution_count": 9,
   "id": "9ec22be3",
   "metadata": {},
   "outputs": [
    {
     "name": "stdout",
     "output_type": "stream",
     "text": [
      "Requirement already satisfied: timm in c:\\users\\otuam\\appdata\\local\\programs\\python\\python313\\lib\\site-packages (1.0.19)\n",
      "Requirement already satisfied: torch in c:\\users\\otuam\\appdata\\local\\programs\\python\\python313\\lib\\site-packages (from timm) (2.8.0)\n",
      "Requirement already satisfied: torchvision in c:\\users\\otuam\\appdata\\local\\programs\\python\\python313\\lib\\site-packages (from timm) (0.23.0)\n",
      "Requirement already satisfied: pyyaml in c:\\users\\otuam\\appdata\\local\\programs\\python\\python313\\lib\\site-packages (from timm) (6.0.2)\n",
      "Requirement already satisfied: huggingface_hub in c:\\users\\otuam\\appdata\\local\\programs\\python\\python313\\lib\\site-packages (from timm) (0.34.4)\n",
      "Requirement already satisfied: safetensors in c:\\users\\otuam\\appdata\\local\\programs\\python\\python313\\lib\\site-packages (from timm) (0.6.2)\n",
      "Requirement already satisfied: filelock in c:\\users\\otuam\\appdata\\local\\programs\\python\\python313\\lib\\site-packages (from huggingface_hub->timm) (3.19.1)\n",
      "Requirement already satisfied: fsspec>=2023.5.0 in c:\\users\\otuam\\appdata\\local\\programs\\python\\python313\\lib\\site-packages (from huggingface_hub->timm) (2025.7.0)\n",
      "Requirement already satisfied: packaging>=20.9 in c:\\users\\otuam\\appdata\\roaming\\python\\python313\\site-packages (from huggingface_hub->timm) (25.0)\n",
      "Requirement already satisfied: requests in c:\\users\\otuam\\appdata\\local\\programs\\python\\python313\\lib\\site-packages (from huggingface_hub->timm) (2.32.5)\n",
      "Requirement already satisfied: tqdm>=4.42.1 in c:\\users\\otuam\\appdata\\local\\programs\\python\\python313\\lib\\site-packages (from huggingface_hub->timm) (4.67.1)\n",
      "Requirement already satisfied: typing-extensions>=3.7.4.3 in c:\\users\\otuam\\appdata\\local\\programs\\python\\python313\\lib\\site-packages (from huggingface_hub->timm) (4.14.1)\n",
      "Requirement already satisfied: sympy>=1.13.3 in c:\\users\\otuam\\appdata\\local\\programs\\python\\python313\\lib\\site-packages (from torch->timm) (1.14.0)\n",
      "Requirement already satisfied: networkx in c:\\users\\otuam\\appdata\\local\\programs\\python\\python313\\lib\\site-packages (from torch->timm) (3.5)\n",
      "Requirement already satisfied: jinja2 in c:\\users\\otuam\\appdata\\local\\programs\\python\\python313\\lib\\site-packages (from torch->timm) (3.1.6)\n",
      "Requirement already satisfied: setuptools in c:\\users\\otuam\\appdata\\local\\programs\\python\\python313\\lib\\site-packages (from torch->timm) (80.9.0)\n",
      "Requirement already satisfied: numpy in c:\\users\\otuam\\appdata\\roaming\\python\\python313\\site-packages (from torchvision->timm) (2.2.5)\n",
      "Requirement already satisfied: pillow!=8.3.*,>=5.3.0 in c:\\users\\otuam\\appdata\\roaming\\python\\python313\\site-packages (from torchvision->timm) (11.2.1)\n",
      "Requirement already satisfied: mpmath<1.4,>=1.1.0 in c:\\users\\otuam\\appdata\\local\\programs\\python\\python313\\lib\\site-packages (from sympy>=1.13.3->torch->timm) (1.3.0)\n",
      "Requirement already satisfied: colorama in c:\\users\\otuam\\appdata\\roaming\\python\\python313\\site-packages (from tqdm>=4.42.1->huggingface_hub->timm) (0.4.6)\n",
      "Requirement already satisfied: MarkupSafe>=2.0 in c:\\users\\otuam\\appdata\\local\\programs\\python\\python313\\lib\\site-packages (from jinja2->torch->timm) (3.0.2)\n",
      "Requirement already satisfied: charset_normalizer<4,>=2 in c:\\users\\otuam\\appdata\\local\\programs\\python\\python313\\lib\\site-packages (from requests->huggingface_hub->timm) (3.4.3)\n",
      "Requirement already satisfied: idna<4,>=2.5 in c:\\users\\otuam\\appdata\\local\\programs\\python\\python313\\lib\\site-packages (from requests->huggingface_hub->timm) (3.10)\n",
      "Requirement already satisfied: urllib3<3,>=1.21.1 in c:\\users\\otuam\\appdata\\local\\programs\\python\\python313\\lib\\site-packages (from requests->huggingface_hub->timm) (2.5.0)\n",
      "Requirement already satisfied: certifi>=2017.4.17 in c:\\users\\otuam\\appdata\\local\\programs\\python\\python313\\lib\\site-packages (from requests->huggingface_hub->timm) (2025.8.3)\n",
      "Note: you may need to restart the kernel to use updated packages.\n"
     ]
    },
    {
     "name": "stderr",
     "output_type": "stream",
     "text": [
      "\n",
      "[notice] A new release of pip is available: 25.0.1 -> 25.2\n",
      "[notice] To update, run: python.exe -m pip install --upgrade pip\n"
     ]
    },
    {
     "name": "stdout",
     "output_type": "stream",
     "text": [
      "Collecting faiss-cpu\n",
      "  Downloading faiss_cpu-1.12.0-cp313-cp313-win_amd64.whl.metadata (5.2 kB)\n",
      "Requirement already satisfied: numpy<3.0,>=1.25.0 in c:\\users\\otuam\\appdata\\roaming\\python\\python313\\site-packages (from faiss-cpu) (2.2.5)\n",
      "Requirement already satisfied: packaging in c:\\users\\otuam\\appdata\\roaming\\python\\python313\\site-packages (from faiss-cpu) (25.0)\n",
      "Downloading faiss_cpu-1.12.0-cp313-cp313-win_amd64.whl (18.2 MB)\n",
      "   ---------------------------------------- 0.0/18.2 MB ? eta -:--:--\n",
      "   --- ------------------------------------ 1.6/18.2 MB 10.8 MB/s eta 0:00:02\n",
      "   --------- ------------------------------ 4.2/18.2 MB 11.3 MB/s eta 0:00:02\n",
      "   --------------- ------------------------ 6.8/18.2 MB 11.7 MB/s eta 0:00:01\n",
      "   -------------------- ------------------- 9.4/18.2 MB 11.8 MB/s eta 0:00:01\n",
      "   --------------------------- ------------ 12.3/18.2 MB 12.4 MB/s eta 0:00:01\n",
      "   ---------------------------------- ----- 15.7/18.2 MB 13.0 MB/s eta 0:00:01\n",
      "   ---------------------------------------  18.1/18.2 MB 12.7 MB/s eta 0:00:01\n",
      "   ---------------------------------------- 18.2/18.2 MB 12.4 MB/s eta 0:00:00\n",
      "Installing collected packages: faiss-cpu\n",
      "Successfully installed faiss-cpu-1.12.0\n",
      "Note: you may need to restart the kernel to use updated packages.\n"
     ]
    },
    {
     "name": "stderr",
     "output_type": "stream",
     "text": [
      "\n",
      "[notice] A new release of pip is available: 25.0.1 -> 25.2\n",
      "[notice] To update, run: python.exe -m pip install --upgrade pip\n"
     ]
    }
   ],
   "source": [
    "%pip install timm\n",
    "%pip install faiss-cpu"
   ]
  },
  {
   "cell_type": "code",
   "execution_count": 1,
   "id": "51ab10b6",
   "metadata": {},
   "outputs": [
    {
     "name": "stderr",
     "output_type": "stream",
     "text": [
      "c:\\Users\\otuam\\AppData\\Local\\Programs\\Python\\Python313\\Lib\\site-packages\\tqdm\\auto.py:21: TqdmWarning: IProgress not found. Please update jupyter and ipywidgets. See https://ipywidgets.readthedocs.io/en/stable/user_install.html\n",
      "  from .autonotebook import tqdm as notebook_tqdm\n"
     ]
    }
   ],
   "source": [
    "import torch\n",
    "from torchvision.datasets import ImageFolder\n",
    "from torchvision import transforms\n",
    "from torch.utils.data import DataLoader\n",
    "import sys\n",
    "sys.path.append(\"src\")\n",
    "\n",
    "from patchcore.patchcore import PatchCore\n",
    "import patchcore.backbones"
   ]
  },
  {
   "cell_type": "code",
   "execution_count": null,
   "id": "1d017e40",
   "metadata": {},
   "outputs": [],
   "source": [
    "\n",
    "# 1. Load your images (rectangular, e.g., 256x384)\n",
    "transform = transforms.Compose([\n",
    "    transforms.Resize((224,224)),  # Ensure all images are the same size\n",
    "    transforms.ToTensor()\n",
    "])\n",
    "\n",
    "train_dataset = ImageFolder(\"carpet/train\", transform=transform)\n",
    "test_dataset = ImageFolder(\"carpet/test\", transform=transform)\n",
    "train_loader = DataLoader(train_dataset, batch_size=16, shuffle=True)\n",
    "test_loader = DataLoader(test_dataset, batch_size=16, shuffle=False)"
   ]
  },
  {
   "cell_type": "code",
   "execution_count": 3,
   "id": "f52e3a42",
   "metadata": {},
   "outputs": [
    {
     "name": "stderr",
     "output_type": "stream",
     "text": [
      "c:\\Users\\otuam\\AppData\\Local\\Programs\\Python\\Python313\\Lib\\site-packages\\torchvision\\models\\_utils.py:208: UserWarning: The parameter 'pretrained' is deprecated since 0.13 and may be removed in the future, please use 'weights' instead.\n",
      "  warnings.warn(\n",
      "c:\\Users\\otuam\\AppData\\Local\\Programs\\Python\\Python313\\Lib\\site-packages\\torchvision\\models\\_utils.py:223: UserWarning: Arguments other than a weight enum or `None` for 'weights' are deprecated since 0.13 and may be removed in the future. The current behavior is equivalent to passing `weights=ResNet50_Weights.IMAGENET1K_V1`. You can also use `weights=ResNet50_Weights.DEFAULT` to get the most up-to-date weights.\n",
      "  warnings.warn(msg)\n"
     ]
    }
   ],
   "source": [
    "# 2. Configure PatchCore\n",
    "device = torch.device(\"cuda\" if torch.cuda.is_available() else \"cpu\")\n",
    "model = PatchCore(device)\n",
    "backbone = patchcore.backbones.load(\"resnet50\")\n",
    "layers = [\"layer2\", \"layer3\"]  # Use layers appropriate for your backbone\n",
    "\n",
    "model.load(\n",
    "    backbone=backbone,\n",
    "    layers_to_extract_from=layers,\n",
    "    device=device,\n",
    "    input_shape=(3, 256, 384),  # Channels, Height, Width\n",
    "    pretrain_embed_dimension=1024,\n",
    "    target_embed_dimension=384,\n",
    "    patchsize=3,\n",
    "    patchstride=1,\n",
    ")\n"
   ]
  },
  {
   "cell_type": "code",
   "execution_count": 4,
   "id": "849f9097",
   "metadata": {},
   "outputs": [
    {
     "name": "stderr",
     "output_type": "stream",
     "text": []
    },
    {
     "ename": "AttributeError",
     "evalue": "'list' object has no attribute 'to'",
     "output_type": "error",
     "traceback": [
      "\u001b[31m---------------------------------------------------------------------------\u001b[39m",
      "\u001b[31mAttributeError\u001b[39m                            Traceback (most recent call last)",
      "\u001b[36mCell\u001b[39m\u001b[36m \u001b[39m\u001b[32mIn[4]\u001b[39m\u001b[32m, line 2\u001b[39m\n\u001b[32m      1\u001b[39m \u001b[38;5;66;03m# 3. Train PatchCore (build memory bank)\u001b[39;00m\n\u001b[32m----> \u001b[39m\u001b[32m2\u001b[39m \u001b[43mmodel\u001b[49m\u001b[43m.\u001b[49m\u001b[43mfit\u001b[49m\u001b[43m(\u001b[49m\u001b[43mtrain_loader\u001b[49m\u001b[43m)\u001b[49m\n",
      "\u001b[36mFile \u001b[39m\u001b[32mc:\\Users\\otuam\\Desktop\\Iris\\Computer Vision\\Unsupervised Anomaly Detection Playground\\amazon paper\\patchcore-inspection\\src\\patchcore\\patchcore.py:153\u001b[39m, in \u001b[36mPatchCore.fit\u001b[39m\u001b[34m(self, training_data)\u001b[39m\n\u001b[32m    147\u001b[39m \u001b[38;5;28;01mdef\u001b[39;00m\u001b[38;5;250m \u001b[39m\u001b[34mfit\u001b[39m(\u001b[38;5;28mself\u001b[39m, training_data):\n\u001b[32m    148\u001b[39m \u001b[38;5;250m    \u001b[39m\u001b[33;03m\"\"\"PatchCore training.\u001b[39;00m\n\u001b[32m    149\u001b[39m \n\u001b[32m    150\u001b[39m \u001b[33;03m    This function computes the embeddings of the training data and fills the\u001b[39;00m\n\u001b[32m    151\u001b[39m \u001b[33;03m    memory bank of SPADE.\u001b[39;00m\n\u001b[32m    152\u001b[39m \u001b[33;03m    \"\"\"\u001b[39;00m\n\u001b[32m--> \u001b[39m\u001b[32m153\u001b[39m     \u001b[38;5;28;43mself\u001b[39;49m\u001b[43m.\u001b[49m\u001b[43m_fill_memory_bank\u001b[49m\u001b[43m(\u001b[49m\u001b[43mtraining_data\u001b[49m\u001b[43m)\u001b[49m\n",
      "\u001b[36mFile \u001b[39m\u001b[32mc:\\Users\\otuam\\Desktop\\Iris\\Computer Vision\\Unsupervised Anomaly Detection Playground\\amazon paper\\patchcore-inspection\\src\\patchcore\\patchcore.py:171\u001b[39m, in \u001b[36mPatchCore._fill_memory_bank\u001b[39m\u001b[34m(self, input_data)\u001b[39m\n\u001b[32m    169\u001b[39m         \u001b[38;5;28;01mif\u001b[39;00m \u001b[38;5;28misinstance\u001b[39m(image, \u001b[38;5;28mdict\u001b[39m):\n\u001b[32m    170\u001b[39m             image = image[\u001b[33m\"\u001b[39m\u001b[33mimage\u001b[39m\u001b[33m\"\u001b[39m]\n\u001b[32m--> \u001b[39m\u001b[32m171\u001b[39m         features.append(\u001b[43m_image_to_features\u001b[49m\u001b[43m(\u001b[49m\u001b[43mimage\u001b[49m\u001b[43m)\u001b[49m)\n\u001b[32m    173\u001b[39m features = np.concatenate(features, axis=\u001b[32m0\u001b[39m)\n\u001b[32m    174\u001b[39m features = \u001b[38;5;28mself\u001b[39m.featuresampler.run(features)\n",
      "\u001b[36mFile \u001b[39m\u001b[32mc:\\Users\\otuam\\Desktop\\Iris\\Computer Vision\\Unsupervised Anomaly Detection Playground\\amazon paper\\patchcore-inspection\\src\\patchcore\\patchcore.py:161\u001b[39m, in \u001b[36mPatchCore._fill_memory_bank.<locals>._image_to_features\u001b[39m\u001b[34m(input_image)\u001b[39m\n\u001b[32m    159\u001b[39m \u001b[38;5;28;01mdef\u001b[39;00m\u001b[38;5;250m \u001b[39m\u001b[34m_image_to_features\u001b[39m(input_image):\n\u001b[32m    160\u001b[39m     \u001b[38;5;28;01mwith\u001b[39;00m torch.no_grad():\n\u001b[32m--> \u001b[39m\u001b[32m161\u001b[39m         input_image = \u001b[43minput_image\u001b[49m\u001b[43m.\u001b[49m\u001b[43mto\u001b[49m(torch.float).to(\u001b[38;5;28mself\u001b[39m.device)\n\u001b[32m    162\u001b[39m         \u001b[38;5;28;01mreturn\u001b[39;00m \u001b[38;5;28mself\u001b[39m._embed(input_image)\n",
      "\u001b[31mAttributeError\u001b[39m: 'list' object has no attribute 'to'"
     ]
    }
   ],
   "source": [
    "# 3. Train PatchCore (build memory bank)\n",
    "model.fit(train_loader)"
   ]
  },
  {
   "cell_type": "code",
   "execution_count": null,
   "id": "5647d038",
   "metadata": {},
   "outputs": [],
   "source": [
    "# 4. Predict anomalies on test set\n",
    "scores, masks, labels_gt, masks_gt = model.predict(test_loader)"
   ]
  },
  {
   "cell_type": "code",
   "execution_count": null,
   "id": "a65d07a4",
   "metadata": {},
   "outputs": [],
   "source": [
    "\n",
    "# 5. (Optional) Visualize or save results\n",
    "for i, (score, mask) in enumerate(zip(scores, masks)):\n",
    "    print(f\"Image {i}: Anomaly score = {score}\")\n",
    "    # You can save or display mask here"
   ]
  }
 ],
 "metadata": {
  "kernelspec": {
   "display_name": "Python 3",
   "language": "python",
   "name": "python3"
  },
  "language_info": {
   "codemirror_mode": {
    "name": "ipython",
    "version": 3
   },
   "file_extension": ".py",
   "mimetype": "text/x-python",
   "name": "python",
   "nbconvert_exporter": "python",
   "pygments_lexer": "ipython3",
   "version": "3.13.3"
  }
 },
 "nbformat": 4,
 "nbformat_minor": 5
}
